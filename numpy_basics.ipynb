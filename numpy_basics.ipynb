{
 "cells": [
  {
   "cell_type": "code",
   "execution_count": 2,
   "id": "205714b6-2286-46f4-9a26-784f1678eef4",
   "metadata": {},
   "outputs": [],
   "source": [
    "import numpy as np\n",
    "import scipy as special"
   ]
  },
  {
   "cell_type": "code",
   "execution_count": null,
   "id": "a9e1650d-9d1a-4750-b5b2-9ab7bcb5831f",
   "metadata": {},
   "outputs": [],
   "source": [
    "restaurant_json_str = \"\"\"\n",
    "{\n",
    "    \"name\": \"Manoj\",\n",
    "    \"surname\": \"Ravikumar\",\n",
    "    \"age\": 10,\n",
    "    \"married\": true,\n",
    "    \"location\": {\n",
    "        \"city\": \"Coimbatore\",\n",
    "        \"state\": \"Tamilnadu\"\n",
    "    }\n",
    "}\n",
    "\"\"\"\n",
    "print(restaurant_json_str)\n",
    "import json\n",
    "res_json = json.loads(restaurant_json_str)\n",
    "res_str = json.dump(res_json)\n",
    "print(type(restaurant_json_str),\"  \", type(res_json), \"   \", type(res_str))\n",
    "print(res_json)\n",
    "print(res_str)"
   ]
  },
  {
   "cell_type": "code",
   "execution_count": 29,
   "id": "c153ce7b-1382-48a9-8a24-95320839b981",
   "metadata": {},
   "outputs": [
    {
     "name": "stdout",
     "output_type": "stream",
     "text": [
      "Coordinates: 11.0°N 77.0°E\n",
      "Elevation: 393.0 m asl\n",
      "Timezone difference to GMT+0: 0s\n",
      "\n",
      "Hourly data\n",
      "                          date  temperature_2m\n",
      "0   2025-09-14 00:00:00+00:00       22.612501\n",
      "1   2025-09-14 01:00:00+00:00       22.612501\n",
      "2   2025-09-14 02:00:00+00:00       23.812500\n",
      "3   2025-09-14 03:00:00+00:00       25.712500\n",
      "4   2025-09-14 04:00:00+00:00       27.512501\n",
      "..                        ...             ...\n",
      "163 2025-09-20 19:00:00+00:00       23.612501\n",
      "164 2025-09-20 20:00:00+00:00       23.462500\n",
      "165 2025-09-20 21:00:00+00:00       23.312500\n",
      "166 2025-09-20 22:00:00+00:00       23.062500\n",
      "167 2025-09-20 23:00:00+00:00       22.812500\n",
      "\n",
      "[168 rows x 2 columns]\n"
     ]
    }
   ],
   "source": [
    "import openmeteo_requests\n",
    "\n",
    "import pandas as pd\n",
    "import requests_cache\n",
    "from retry_requests import retry\n",
    "\n",
    "# Setup the Open-Meteo API client with cache and retry on error\n",
    "cache_session = requests_cache.CachedSession('.cache', expire_after = 3600)\n",
    "retry_session = retry(cache_session, retries = 5, backoff_factor = 0.2)\n",
    "openmeteo = openmeteo_requests.Client(session = retry_session)\n",
    "\n",
    "# Make sure all required weather variables are listed here\n",
    "# The order of variables in hourly or daily is important to assign them correctly below\n",
    "url = \"https://api.open-meteo.com/v1/forecast\"\n",
    "params = {\n",
    "\t\"latitude\": 10.9467893,\n",
    "\t\"longitude\": 76.9859651,\n",
    "\t\"hourly\": \"temperature_2m\",\n",
    "}\n",
    "responses = openmeteo.weather_api(url, params=params)\n",
    "\n",
    "# Process first location. Add a for-loop for multiple locations or weather models\n",
    "response = responses[0]\n",
    "print(f\"Coordinates: {response.Latitude()}°N {response.Longitude()}°E\")\n",
    "print(f\"Elevation: {response.Elevation()} m asl\")\n",
    "print(f\"Timezone difference to GMT+0: {response.UtcOffsetSeconds()}s\")\n",
    "\n",
    "# Process hourly data. The order of variables needs to be the same as requested.\n",
    "hourly = response.Hourly()\n",
    "hourly_temperature_2m = hourly.Variables(0).ValuesAsNumpy()\n",
    "\n",
    "hourly_data = {\"date\": pd.date_range(\n",
    "\tstart = pd.to_datetime(hourly.Time(), unit = \"s\", utc = True),\n",
    "\tend = pd.to_datetime(hourly.TimeEnd(), unit = \"s\", utc = True),\n",
    "\tfreq = pd.Timedelta(seconds = hourly.Interval()),\n",
    "\tinclusive = \"left\"\n",
    ")}\n",
    "\n",
    "hourly_data[\"temperature_2m\"] = hourly_temperature_2m\n",
    "\n",
    "hourly_dataframe = pd.DataFrame(data = hourly_data)\n",
    "print(\"\\nHourly data\\n\", hourly_dataframe)"
   ]
  },
  {
   "cell_type": "code",
   "execution_count": 35,
   "id": "ea6a1dc8-5374-434b-81f3-a239dc1efa51",
   "metadata": {},
   "outputs": [
    {
     "name": "stdout",
     "output_type": "stream",
     "text": [
      "[[9 9 5 1]\n",
      " [4 4 9 0]\n",
      " [0 8 2 4]]\n"
     ]
    }
   ],
   "source": [
    "\n",
    "np.random.seed(16)\n",
    "x=np.random.randint(0,10,(3,4))\n",
    "print(x)"
   ]
  },
  {
   "cell_type": "code",
   "execution_count": 36,
   "id": "b45cc461-ee92-4082-9354-096fed43c9bd",
   "metadata": {},
   "outputs": [
    {
     "data": {
      "text/plain": [
       "array([[9, 9, 5],\n",
       "       [4, 4, 9]])"
      ]
     },
     "execution_count": 36,
     "metadata": {},
     "output_type": "execute_result"
    }
   ],
   "source": [
    "x[:2,:3]"
   ]
  },
  {
   "cell_type": "code",
   "execution_count": 40,
   "id": "525cfd8d-da6c-4c1b-ba6b-4df25725f4cc",
   "metadata": {},
   "outputs": [
    {
     "data": {
      "text/plain": [
       "array([[9, 1],\n",
       "       [4, 0],\n",
       "       [8, 4]])"
      ]
     },
     "execution_count": 40,
     "metadata": {},
     "output_type": "execute_result"
    }
   ],
   "source": [
    "x[:3,1::2]"
   ]
  },
  {
   "cell_type": "code",
   "execution_count": 41,
   "id": "a92d45fe-5932-4ee6-8f1e-131c3b2a0bb4",
   "metadata": {},
   "outputs": [
    {
     "data": {
      "text/plain": [
       "array([[4, 2, 8, 0],\n",
       "       [0, 9, 4, 4],\n",
       "       [1, 5, 9, 9]])"
      ]
     },
     "execution_count": 41,
     "metadata": {},
     "output_type": "execute_result"
    }
   ],
   "source": [
    "x[::-1,::-1]"
   ]
  },
  {
   "cell_type": "code",
   "execution_count": 43,
   "id": "625380d5-005e-4c13-86a5-e2ba551327c4",
   "metadata": {},
   "outputs": [
    {
     "data": {
      "text/plain": [
       "array([[1, 5, 9, 9],\n",
       "       [0, 9, 4, 4],\n",
       "       [4, 2, 8, 0]])"
      ]
     },
     "execution_count": 43,
     "metadata": {},
     "output_type": "execute_result"
    }
   ],
   "source": [
    "x[::,::-1]"
   ]
  },
  {
   "cell_type": "code",
   "execution_count": 47,
   "id": "d51f7436-592a-48df-bc2b-f6555a819e41",
   "metadata": {},
   "outputs": [
    {
     "data": {
      "text/plain": [
       "array([[9, 9],\n",
       "       [4, 4]])"
      ]
     },
     "execution_count": 47,
     "metadata": {},
     "output_type": "execute_result"
    }
   ],
   "source": [
    "x[:2,:2]"
   ]
  },
  {
   "cell_type": "code",
   "execution_count": 49,
   "id": "d7516635-5820-48ac-aaca-0b69bec7663e",
   "metadata": {},
   "outputs": [
    {
     "data": {
      "text/plain": [
       "array([[9, 9, 5, 1],\n",
       "       [4, 4, 9, 0],\n",
       "       [0, 8, 2, 4],\n",
       "       [9, 9, 5, 1],\n",
       "       [4, 4, 9, 0],\n",
       "       [0, 8, 2, 4]])"
      ]
     },
     "execution_count": 49,
     "metadata": {},
     "output_type": "execute_result"
    }
   ],
   "source": [
    "np.concatenate([x,x])\n"
   ]
  },
  {
   "cell_type": "code",
   "execution_count": 65,
   "id": "ec2dc9f9-5ea4-4c25-8c31-e3cf69120342",
   "metadata": {},
   "outputs": [
    {
     "data": {
      "text/plain": [
       "array([[9, 9, 5, 1],\n",
       "       [4, 4, 9, 0],\n",
       "       [0, 8, 2, 4],\n",
       "       [9, 9, 5, 1],\n",
       "       [4, 4, 9, 0]])"
      ]
     },
     "execution_count": 65,
     "metadata": {},
     "output_type": "execute_result"
    }
   ],
   "source": [
    "np.vstack([x,x[:2,:]])"
   ]
  },
  {
   "cell_type": "code",
   "execution_count": 62,
   "id": "49d05a3f-49ac-4117-9e92-373c1a9ac418",
   "metadata": {},
   "outputs": [
    {
     "data": {
      "text/plain": [
       "array([[9, 9],\n",
       "       [4, 4],\n",
       "       [0, 8]])"
      ]
     },
     "execution_count": 62,
     "metadata": {},
     "output_type": "execute_result"
    }
   ],
   "source": [
    "x[:,:2]"
   ]
  },
  {
   "cell_type": "code",
   "execution_count": 86,
   "id": "e0d3b8e6-e649-42e5-aa52-46055944b791",
   "metadata": {},
   "outputs": [
    {
     "data": {
      "text/plain": [
       "array([[9, 9, 5, 1],\n",
       "       [4, 4, 9, 0],\n",
       "       [0, 8, 2, 4]])"
      ]
     },
     "execution_count": 86,
     "metadata": {},
     "output_type": "execute_result"
    }
   ],
   "source": [
    "y1,y2,y3=np.split(x,[3,3])\n",
    "x"
   ]
  },
  {
   "cell_type": "code",
   "execution_count": 87,
   "id": "9d92b66b-f942-4298-bc14-b8f1afa52cf0",
   "metadata": {},
   "outputs": [
    {
     "data": {
      "text/plain": [
       "array([[9, 9, 5, 1],\n",
       "       [4, 4, 9, 0],\n",
       "       [0, 8, 2, 4]])"
      ]
     },
     "execution_count": 87,
     "metadata": {},
     "output_type": "execute_result"
    }
   ],
   "source": [
    "y1"
   ]
  },
  {
   "cell_type": "code",
   "execution_count": 88,
   "id": "1bd54fba-31ad-4947-9ede-ffca56e42133",
   "metadata": {},
   "outputs": [
    {
     "data": {
      "text/plain": [
       "array([], shape=(0, 4), dtype=int64)"
      ]
     },
     "execution_count": 88,
     "metadata": {},
     "output_type": "execute_result"
    }
   ],
   "source": [
    "y2"
   ]
  },
  {
   "cell_type": "code",
   "execution_count": 89,
   "id": "e794ba67-fe69-4f10-908c-8475cc01cf76",
   "metadata": {},
   "outputs": [
    {
     "data": {
      "text/plain": [
       "array([], shape=(0, 4), dtype=int64)"
      ]
     },
     "execution_count": 89,
     "metadata": {},
     "output_type": "execute_result"
    }
   ],
   "source": [
    "y3"
   ]
  },
  {
   "cell_type": "code",
   "execution_count": 90,
   "id": "a4fd70bf-0964-4314-a6ff-d331814b5820",
   "metadata": {},
   "outputs": [],
   "source": [
    "grid = np.arange(16).reshape(4,4)"
   ]
  },
  {
   "cell_type": "code",
   "execution_count": 91,
   "id": "b5a56fc3-7381-4885-9c5a-6e4d59dc924a",
   "metadata": {},
   "outputs": [],
   "source": [
    "u,l = np.vsplit(grid,[2])"
   ]
  },
  {
   "cell_type": "code",
   "execution_count": 92,
   "id": "372083ef-ab02-4a6f-bc4c-600aec61a060",
   "metadata": {},
   "outputs": [
    {
     "name": "stdout",
     "output_type": "stream",
     "text": [
      "[[0 1 2 3]\n",
      " [4 5 6 7]]\n"
     ]
    }
   ],
   "source": [
    "print(u)"
   ]
  },
  {
   "cell_type": "code",
   "execution_count": 93,
   "id": "6c426928-45fe-44a6-be63-d6db4d019ca8",
   "metadata": {},
   "outputs": [
    {
     "name": "stdout",
     "output_type": "stream",
     "text": [
      "[[ 8  9 10 11]\n",
      " [12 13 14 15]]\n"
     ]
    }
   ],
   "source": [
    "print(l)"
   ]
  },
  {
   "cell_type": "code",
   "execution_count": 94,
   "id": "f29e0fe4-8a13-4b33-91ed-e6205bd08f62",
   "metadata": {},
   "outputs": [],
   "source": [
    "u2,l2 = np.hsplit(grid,[2])"
   ]
  },
  {
   "cell_type": "code",
   "execution_count": 95,
   "id": "865c4160-6fad-4310-a0ff-e31ed72a2441",
   "metadata": {},
   "outputs": [
    {
     "name": "stdout",
     "output_type": "stream",
     "text": [
      "[[ 0  1]\n",
      " [ 4  5]\n",
      " [ 8  9]\n",
      " [12 13]]\n"
     ]
    }
   ],
   "source": [
    "print(u2)"
   ]
  },
  {
   "cell_type": "code",
   "execution_count": 96,
   "id": "027e3932-b5b0-406e-86a2-cd9f132c926c",
   "metadata": {},
   "outputs": [
    {
     "name": "stdout",
     "output_type": "stream",
     "text": [
      "[[ 2  3]\n",
      " [ 6  7]\n",
      " [10 11]\n",
      " [14 15]]\n"
     ]
    }
   ],
   "source": [
    "print(l2)"
   ]
  },
  {
   "cell_type": "code",
   "execution_count": 115,
   "id": "a4fbf8cd-4830-4115-a140-ebdb46cc9945",
   "metadata": {},
   "outputs": [],
   "source": [
    "parts = np.hsplit(np.arange(16).reshape(4,4),[1,3])"
   ]
  },
  {
   "cell_type": "code",
   "execution_count": 116,
   "id": "707d9024-765c-4df5-9886-a4d687ba7698",
   "metadata": {},
   "outputs": [
    {
     "data": {
      "text/plain": [
       "list"
      ]
     },
     "execution_count": 116,
     "metadata": {},
     "output_type": "execute_result"
    }
   ],
   "source": [
    "type(parts)"
   ]
  },
  {
   "cell_type": "code",
   "execution_count": 117,
   "id": "b48d176f-2d2c-462e-858d-84b8856da9eb",
   "metadata": {},
   "outputs": [
    {
     "data": {
      "text/plain": [
       "[array([[ 0],\n",
       "        [ 4],\n",
       "        [ 8],\n",
       "        [12]]),\n",
       " array([[ 1,  2],\n",
       "        [ 5,  6],\n",
       "        [ 9, 10],\n",
       "        [13, 14]]),\n",
       " array([[ 3],\n",
       "        [ 7],\n",
       "        [11],\n",
       "        [15]])]"
      ]
     },
     "execution_count": 117,
     "metadata": {},
     "output_type": "execute_result"
    }
   ],
   "source": [
    "parts"
   ]
  },
  {
   "cell_type": "code",
   "execution_count": 120,
   "id": "1f9dd5de-2f18-45d0-b0c9-cdd9f53eea2b",
   "metadata": {},
   "outputs": [
    {
     "name": "stdout",
     "output_type": "stream",
     "text": [
      "604 ms ± 4.47 ms per loop (mean ± std. dev. of 7 runs, 1 loop each)\n"
     ]
    }
   ],
   "source": [
    "import numpy as np\n",
    "np.random.seed(0)\n",
    "\n",
    "def compute_reciprocals(values):\n",
    "    output = np.empty(len(values))\n",
    "    for i in range(len(values)):\n",
    "        output[i] = 1.0 / values[i]\n",
    "    return output\n",
    "        \n",
    "values = np.random.randint(1, 10, size=5)\n",
    "compute_reciprocals(values)\n",
    "\n",
    "\n",
    "big_array = np.random.randint(1, 100, size=1000000)\n",
    "%timeit compute_reciprocals(big_array)"
   ]
  },
  {
   "cell_type": "code",
   "execution_count": 123,
   "id": "1cff8524-b904-4931-aa2f-9c33d6302971",
   "metadata": {},
   "outputs": [
    {
     "name": "stderr",
     "output_type": "stream",
     "text": [
      "2025-09-14 22:56:56,720 - ABC_App - INFO - INFO logs\n"
     ]
    }
   ],
   "source": [
    "import logging\n",
    "logging.basicConfig(\n",
    "    level=logging.INFO,\n",
    "    format=\"%(asctime)s - %(name)s - %(levelname)s - %(message)s\",\n",
    "    handlers=[  # <-- plural\n",
    "        logging.StreamHandler(), \n",
    "        logging.FileHandler(\"my_log.log\", mode=\"w\")\n",
    "    ]\n",
    ")\n",
    "\n",
    "logger = logging.getLogger(\"ABC_App\")\n",
    "logger.setLevel(logging.INFO)\n",
    "\n",
    "logger.info(\"INFO logs\")"
   ]
  },
  {
   "cell_type": "markdown",
   "id": "e2b622fd-d6fa-4751-af1f-4a1c6bf9de59",
   "metadata": {},
   "source": [
    "### SELECTING"
   ]
  },
  {
   "cell_type": "code",
   "execution_count": 9,
   "id": "f12147ec-974c-41e7-9327-9ef0d245b264",
   "metadata": {},
   "outputs": [
    {
     "name": "stdout",
     "output_type": "stream",
     "text": [
      "\n",
      "\n",
      "x2 is \n",
      " [[ 0  1  2  3  4  5  6]\n",
      " [ 7  8  9 10 11 12 13]\n",
      " [14 15 16 17 18 19 20]\n",
      " [21 22 23 24 25 26 27]]\n",
      "\n",
      "\n",
      "First Column is \n",
      " [ 0  7 14 21]\n",
      "\n",
      "\n",
      "First Row is \n",
      " [[ 0  1  2  3  4  5  6]\n",
      " [ 7  8  9 10 11 12 13]\n",
      " [14 15 16 17 18 19 20]\n",
      " [21 22 23 24 25 26 27]]\n",
      "\n",
      "\n",
      "Select 2 rows x 3 cols is \n",
      " [[0 1 2]\n",
      " [7 8 9]]\n",
      "\n",
      "\n",
      "Select 3 rows x 1 to 4 cols is \n",
      " [[ 1  2  3]\n",
      " [ 8  9 10]\n",
      " [15 16 17]]\n"
     ]
    }
   ],
   "source": [
    "x2=np.arange(28).reshape(4,7)\n",
    "\n",
    "print(\"\\n\\nx2 is \\n\",x2)\n",
    "\n",
    "## First Column\n",
    "print(\"\\n\\nFirst Column is \\n\",x2[:,0])\n",
    "\n",
    "## First Row\n",
    "print(\"\\n\\nFirst Row is \\n\",x2[0:])\n",
    "\n",
    "## 2 rows, 3 cols\n",
    "print(\"\\n\\nSelect 2 rows x 3 cols is \\n\", x2[:2,:3])\n",
    "\n",
    "## 3 rows, 1 to 4 cols\n",
    "print(\"\\n\\nSelect 3 rows x 1 to 4 cols is \\n\", x2[:3,1:4])\n"
   ]
  },
  {
   "cell_type": "markdown",
   "id": "c5ed0139-f4d8-44ad-892f-dcb29a00bea4",
   "metadata": {},
   "source": [
    "### STACKING"
   ]
  },
  {
   "cell_type": "code",
   "execution_count": 41,
   "id": "c4adcc96-33ea-4038-8d48-78ad1e7271ef",
   "metadata": {},
   "outputs": [
    {
     "name": "stdout",
     "output_type": "stream",
     "text": [
      "\n",
      "\n",
      " horizontal stacking 3rd column to right ie  (4, 7)  to  (4, 8) \n",
      "\n",
      " [[ 0  1  2  3  4  5  6  3]\n",
      " [ 7  8  9 10 11 12 13 10]\n",
      " [14 15 16 17 18 19 20 17]\n",
      " [21 22 23 24 25 26 27 24]]\n"
     ]
    }
   ],
   "source": [
    "hstack1 = np.hstack((x2,x2[:,3:4]))\n",
    "print(\"\\n\\n horizontal stacking 3rd column to right ie \", x2.shape,\" to \", hstack1.shape ,\"\\n\\n\", hstack1)"
   ]
  },
  {
   "cell_type": "code",
   "execution_count": 42,
   "id": "45092882-d6f0-4a6d-9e06-6606b7998b7a",
   "metadata": {},
   "outputs": [
    {
     "name": "stdout",
     "output_type": "stream",
     "text": [
      "\n",
      "\n",
      " vertical stacking 2nd row to bottom ie  (4, 7)  to  (5, 7) \n",
      "\n",
      " [[ 0  1  2  3  4  5  6]\n",
      " [ 7  8  9 10 11 12 13]\n",
      " [14 15 16 17 18 19 20]\n",
      " [21 22 23 24 25 26 27]\n",
      " [ 7  8  9 10 11 12 13]]\n"
     ]
    }
   ],
   "source": [
    "vstack1 = np.vstack((x2,x2[1:2,:]))\n",
    "print(\"\\n\\n vertical stacking 2nd row to bottom ie \", x2.shape,\" to \", vstack1.shape ,\"\\n\\n\", vstack1)"
   ]
  },
  {
   "cell_type": "markdown",
   "id": "839c5c78-cbff-4561-8805-1609913a6fa9",
   "metadata": {},
   "source": [
    "### AXIS LEVEL STACKING - 2d to 3d"
   ]
  },
  {
   "cell_type": "code",
   "execution_count": 49,
   "id": "fc9881ac-5949-4255-983c-4c97ef5257f3",
   "metadata": {},
   "outputs": [
    {
     "name": "stdout",
     "output_type": "stream",
     "text": [
      "(5, 7)\n",
      "(2, 4, 7)\n"
     ]
    }
   ],
   "source": [
    "a = np.ones((4,7))\n",
    "b = np.zeros((1,7))\n",
    "out = np.vstack((a,b))\n",
    "print(out.shape) # (5,7)\n",
    "\n",
    "\n",
    "a = np.ones((4,7))\n",
    "b = np.zeros((4,7))\n",
    "out = np.stack((a,b), axis=0)\n",
    "print(out.shape)   # (2, 4, 7)"
   ]
  },
  {
   "cell_type": "code",
   "execution_count": 50,
   "id": "ed4cd51e-3d4b-4030-9a87-6cb97ec5e7ba",
   "metadata": {},
   "outputs": [
    {
     "name": "stdout",
     "output_type": "stream",
     "text": [
      "\n",
      "\n",
      " axis=1 stacking after padding axis=0 ie  (4, 7)  to  (4, 2, 7) \n",
      "\n",
      " [[[ 0  1  2  3  4  5  6]\n",
      "  [14 15 16 17 18 19 20]]\n",
      "\n",
      " [[ 7  8  9 10 11 12 13]\n",
      "  [14 15 16 17 18 19 20]]\n",
      "\n",
      " [[14 15 16 17 18 19 20]\n",
      "  [14 15 16 17 18 19 20]]\n",
      "\n",
      " [[21 22 23 24 25 26 27]\n",
      "  [14 15 16 17 18 19 20]]]\n"
     ]
    }
   ],
   "source": [
    "repeated_x2_row = np.repeat(x2[2:3, :], x2.shape[0], axis=0)\n",
    "fstack1 = np.stack((x2, repeated_x2_row), axis=1)\n",
    "\n",
    "print(\"\\n\\n axis=1 stacking after padding axis=0 ie \", x2.shape,\" to \", fstack1.shape ,\"\\n\\n\", fstack1)"
   ]
  },
  {
   "cell_type": "code",
   "execution_count": 53,
   "id": "28889693-1196-40ab-8002-70c8cb96dad1",
   "metadata": {},
   "outputs": [
    {
     "name": "stdout",
     "output_type": "stream",
     "text": [
      "\n",
      "\n",
      " axis=0 stacking after padding axis=1 ie  (4, 7)  to  (2, 4, 7) \n",
      "\n",
      " [[[ 0  1  2  3  4  5  6]\n",
      "  [ 7  8  9 10 11 12 13]\n",
      "  [14 15 16 17 18 19 20]\n",
      "  [21 22 23 24 25 26 27]]\n",
      "\n",
      " [[ 2  2  2  2  2  2  2]\n",
      "  [ 9  9  9  9  9  9  9]\n",
      "  [16 16 16 16 16 16 16]\n",
      "  [23 23 23 23 23 23 23]]]\n"
     ]
    }
   ],
   "source": [
    "repeated_x2_col = np.repeat(x2[:, 2:3], x2.shape[1], axis=1)\n",
    "fstack2 = np.stack((x2, repeated_x2_col), axis=0)\n",
    "\n",
    "print(\"\\n\\n axis=0 stacking after padding axis=1 ie \", x2.shape,\" to \", fstack2.shape ,\"\\n\\n\", fstack2)"
   ]
  },
  {
   "cell_type": "code",
   "execution_count": 52,
   "id": "75467d42-b0d5-474d-a161-6c5671f6968d",
   "metadata": {},
   "outputs": [
    {
     "name": "stdout",
     "output_type": "stream",
     "text": [
      "\n",
      "\n",
      " axis=0 stacking after padding axis=1 ie  (4, 7)  to  (2, 4, 7) \n",
      "\n",
      " [[[ 0  1  2  3  4  5  6]\n",
      "  [ 7  8  9 10 11 12 13]\n",
      "  [14 15 16 17 18 19 20]\n",
      "  [21 22 23 24 25 26 27]]\n",
      "\n",
      " [[ 2  2  2  2  2  2  2]\n",
      "  [ 9  9  9  9  9  9  9]\n",
      "  [16 16 16 16 16 16 16]\n",
      "  [23 23 23 23 23 23 23]]]\n"
     ]
    }
   ],
   "source": [
    "x2_cols = np.repeat(x2, x2.shape[1], axis=1)          # (4, 49)\n",
    "row_cols = np.repeat(x2[2:3, :], x2.shape[1], axis=1) # (1, 49)\n",
    "row_cols_tiled = np.repeat(row_cols, x2.shape[0], axis=0)  # (4, 49)\n",
    "fstack2 = np.stack((x2_cols, row_cols_tiled), axis=0)      # (2, 4, 49)\n",
    "\n",
    "print(\"\\n\\n axis=0 stacking after padding axis=1 ie \", x2.shape,\" to \", fstack2.shape ,\"\\n\\n\", fstack2)"
   ]
  },
  {
   "cell_type": "markdown",
   "id": "86924f1b-b9b9-4e97-9811-d54e41034c96",
   "metadata": {},
   "source": [
    "### SPLITTING"
   ]
  },
  {
   "cell_type": "code",
   "execution_count": 61,
   "id": "da30e62f-e3d1-440a-ae2a-c7a387f8c310",
   "metadata": {},
   "outputs": [],
   "source": [
    "x3 = np.arange(25).reshape(5,5)"
   ]
  },
  {
   "cell_type": "code",
   "execution_count": 62,
   "id": "a0789046-e712-4732-8416-389d85191934",
   "metadata": {},
   "outputs": [
    {
     "name": "stdout",
     "output_type": "stream",
     "text": [
      "\n",
      "\n",
      " vertical split ie  (5, 5)  to  ['(2, 5)', '(1, 5)', '(2, 5)'] \n",
      "\n",
      " [array([[0, 1, 2, 3, 4],\n",
      "       [5, 6, 7, 8, 9]]), array([[10, 11, 12, 13, 14]]), array([[15, 16, 17, 18, 19],\n",
      "       [20, 21, 22, 23, 24]])]\n"
     ]
    }
   ],
   "source": [
    "vparts = np.vsplit(x3,[2,3])\n",
    "print(\"\\n\\n vertical split ie \", x3.shape,\" to \", [\"\".join(str(vpart.shape)) for vpart in vparts] ,\"\\n\\n\", vparts)"
   ]
  },
  {
   "cell_type": "code",
   "execution_count": 63,
   "id": "e8312b32-2bf3-40f5-996a-39304f3e1fc0",
   "metadata": {},
   "outputs": [
    {
     "name": "stdout",
     "output_type": "stream",
     "text": [
      "\n",
      "\n",
      " horizontal split ie  (5, 5)  to  ['(5, 1)', '(5, 2)', '(5, 2)'] \n",
      "\n",
      " [array([[ 0],\n",
      "       [ 5],\n",
      "       [10],\n",
      "       [15],\n",
      "       [20]]), array([[ 1,  2],\n",
      "       [ 6,  7],\n",
      "       [11, 12],\n",
      "       [16, 17],\n",
      "       [21, 22]]), array([[ 3,  4],\n",
      "       [ 8,  9],\n",
      "       [13, 14],\n",
      "       [18, 19],\n",
      "       [23, 24]])]\n"
     ]
    }
   ],
   "source": [
    "hparts = np.hsplit(x3,[1,3])\n",
    "print(\"\\n\\n horizontal split ie \", x3.shape,\" to \", [\"\".join(str(hpart.shape)) for hpart in hparts] ,\"\\n\\n\", hparts)"
   ]
  },
  {
   "cell_type": "code",
   "execution_count": 67,
   "id": "9737316a-3efc-45dd-8579-0d4f7586e7c7",
   "metadata": {},
   "outputs": [
    {
     "name": "stdout",
     "output_type": "stream",
     "text": [
      "\n",
      "\n",
      " vertical split ie  (5, 5)  to  ['(2, 5)', '(1, 5)', '(2, 5)'] \n",
      "\n",
      " [array([[0, 1, 2, 3, 4],\n",
      "       [5, 6, 7, 8, 9]]), array([[10, 11, 12, 13, 14]]), array([[15, 16, 17, 18, 19],\n",
      "       [20, 21, 22, 23, 24]])]\n"
     ]
    }
   ],
   "source": [
    "v1parts = np.split(x3,[2,3],axis=0)\n",
    "print(\"\\n\\n vertical split ie \", x3.shape,\" to \", [\"\".join(str(vpart.shape)) for vpart in v1parts] ,\"\\n\\n\", v1parts)"
   ]
  },
  {
   "cell_type": "code",
   "execution_count": 68,
   "id": "0a6f42e4-b2e4-4a93-bf88-094dd91fc897",
   "metadata": {},
   "outputs": [
    {
     "name": "stdout",
     "output_type": "stream",
     "text": [
      "\n",
      "\n",
      " horizontal split ie  (5, 5)  to  ['(5, 1)', '(5, 2)', '(5, 2)'] \n",
      "\n",
      " [array([[ 0],\n",
      "       [ 5],\n",
      "       [10],\n",
      "       [15],\n",
      "       [20]]), array([[ 1,  2],\n",
      "       [ 6,  7],\n",
      "       [11, 12],\n",
      "       [16, 17],\n",
      "       [21, 22]]), array([[ 3,  4],\n",
      "       [ 8,  9],\n",
      "       [13, 14],\n",
      "       [18, 19],\n",
      "       [23, 24]])]\n"
     ]
    }
   ],
   "source": [
    "h1parts = np.split(x3,[1,3],axis=1)\n",
    "print(\"\\n\\n horizontal split ie \", x3.shape,\" to \", [\"\".join(str(hpart.shape)) for hpart in h1parts] ,\"\\n\\n\", h1parts)"
   ]
  },
  {
   "cell_type": "code",
   "execution_count": 69,
   "id": "e37893d4-e21c-48af-83bc-c6aa39fe5967",
   "metadata": {},
   "outputs": [
    {
     "data": {
      "text/plain": [
       "array([[2, 1, 4, 0, 1, 5],\n",
       "       [5, 2, 5, 4, 3, 7],\n",
       "       [6, 3, 7, 4, 6, 7],\n",
       "       [7, 6, 7, 4, 9, 9]])"
      ]
     },
     "execution_count": 69,
     "metadata": {},
     "output_type": "execute_result"
    }
   ],
   "source": [
    "rand = np.random.RandomState(42)\n",
    "unsort1 = rand.randint(0, 10, (4, 6))\n",
    "np.sort(unsort1, axis=0)"
   ]
  },
  {
   "cell_type": "code",
   "execution_count": 70,
   "id": "b599e50a-099a-4b33-af6e-deced181691c",
   "metadata": {},
   "outputs": [
    {
     "data": {
      "text/plain": [
       "array([[3, 4, 6, 6, 7, 9],\n",
       "       [2, 3, 4, 6, 7, 7],\n",
       "       [1, 2, 4, 5, 7, 7],\n",
       "       [0, 1, 4, 5, 5, 9]])"
      ]
     },
     "execution_count": 70,
     "metadata": {},
     "output_type": "execute_result"
    }
   ],
   "source": [
    "np.sort(unsort1, axis=1)"
   ]
  },
  {
   "cell_type": "code",
   "execution_count": 73,
   "id": "a9b0b9b8-adc6-477d-909e-2ee8da9311e4",
   "metadata": {},
   "outputs": [
    {
     "data": {
      "text/plain": [
       "array([ 5,  6,  2,  3,  4,  1,  4,  7,  8,  8,  9, 10, 10, 11, 16, 13, 12])"
      ]
     },
     "execution_count": 73,
     "metadata": {},
     "output_type": "execute_result"
    }
   ],
   "source": [
    "x4 = np.array([7, 10, 2, 3,9,  1,11, 8, 6, 5, 13, 16, 8, 4,10, 4,12])\n",
    "np.partition(x4, 9)"
   ]
  },
  {
   "cell_type": "code",
   "execution_count": 79,
   "id": "8284db17-2d65-4121-a5be-53d2026af45a",
   "metadata": {},
   "outputs": [
    {
     "data": {
      "text/plain": [
       "array([ 1,  0,  1,  2,  2,  2,  2,  2,  3,  5,  4,  3,  5,  5,  6,  6,  7,\n",
       "        9,  8,  9,  8, 10,  7,  7,  7])"
      ]
     },
     "execution_count": 79,
     "metadata": {},
     "output_type": "execute_result"
    }
   ],
   "source": [
    "x5 = np.array([7,1,6,7,5,2,7,8,1,9,5,8,7,5,2,4,3,9,2,6,2,10,3,2,0])\n",
    "np.partition(x5,(4,8,12))\n",
    "\n",
    "## kth=(4, 8, 12) \n",
    "## means: ensure the 5th smallest element (index 4) is in its correct place, \n",
    "## and the 9th smallest element (index 8) is in its correct place.\n",
    "## and the 13th smallet element (index 12) is in its correct place.\n",
    "##\n",
    "## At index 4 (0-based) you’ll find the 5th-smallest value in x5.\n",
    "## At index 8 you’ll find the 9th-smallest value in x5.\n",
    "## All elements before index 4 are ≤ that 5th-smallest value.\n",
    "## All elements between 4 and 8 are ≤ the 9th-smallest value.\n",
    "## All elements after 8 are ≥ that 9th-smallest value.\n",
    "## Within each region, the values are not necessarily sorted.\n",
    "##"
   ]
  },
  {
   "cell_type": "code",
   "execution_count": 80,
   "id": "bd881d50-eb28-4243-8650-4242ee2b9e6f",
   "metadata": {},
   "outputs": [
    {
     "data": {
      "text/plain": [
       "array([24,  1,  8,  5, 20, 18, 23, 14, 22, 16, 15,  4, 10, 13,  2, 19,  0,\n",
       "        6,  3, 12,  7, 11, 17,  9, 21])"
      ]
     },
     "execution_count": 80,
     "metadata": {},
     "output_type": "execute_result"
    }
   ],
   "source": [
    "np.argsort(x5)"
   ]
  },
  {
   "cell_type": "code",
   "execution_count": 91,
   "id": "8ecd0059-155a-49a3-a609-035a8139198b",
   "metadata": {},
   "outputs": [
    {
     "name": "stdout",
     "output_type": "stream",
     "text": [
      "Sorted numbers by list comprehension are 0, 1, 1, 2, 2, 2, 2, 2, 3, 3, 4, 5, 5, 5, 6, 6, 7, 7, 7, 7, 8, 8, 9, 9, 10\n"
     ]
    }
   ],
   "source": [
    "print(\"Sorted numbers by list comprehension are\", \", \".join(str(x5[i]) for i in np.argsort(x5)))"
   ]
  },
  {
   "cell_type": "code",
   "execution_count": 92,
   "id": "3518d40f-8816-4e1c-87da-f2db7080310b",
   "metadata": {},
   "outputs": [
    {
     "name": "stdout",
     "output_type": "stream",
     "text": [
      "Sorted numbers by map comprehension are 0,1,1,2,2,2,2,2,3,3,4,5,5,5,6,6,7,7,7,7,8,8,9,9,10\n"
     ]
    }
   ],
   "source": [
    "print(\"Sorted numbers by map comprehension are\", \",\".join(map(str, x5[np.argsort(x5)])))"
   ]
  },
  {
   "cell_type": "markdown",
   "id": "132fd0e2-691c-4bad-8011-e484acac7e4e",
   "metadata": {},
   "source": [
    "### Repeating "
   ]
  },
  {
   "cell_type": "code",
   "execution_count": 95,
   "id": "8fe4d629-6d87-40cb-8fbf-f517414b07a6",
   "metadata": {},
   "outputs": [],
   "source": [
    "x6=np.arange(12).reshape(3,4)"
   ]
  },
  {
   "cell_type": "code",
   "execution_count": 97,
   "id": "27ba9da8-18c2-41e0-91fb-0646f0f2f0f1",
   "metadata": {},
   "outputs": [
    {
     "data": {
      "text/plain": [
       "array([[ 0,  1,  2,  3,  0,  1,  2,  3],\n",
       "       [ 4,  5,  6,  7,  4,  5,  6,  7],\n",
       "       [ 8,  9, 10, 11,  8,  9, 10, 11]])"
      ]
     },
     "execution_count": 97,
     "metadata": {},
     "output_type": "execute_result"
    }
   ],
   "source": [
    "np.tile(x6,2)"
   ]
  },
  {
   "cell_type": "code",
   "execution_count": 98,
   "id": "6e945623-e9b6-41fa-85d0-c4e7b92b340d",
   "metadata": {},
   "outputs": [
    {
     "data": {
      "text/plain": [
       "array([ 0,  0,  1,  1,  2,  2,  3,  3,  4,  4,  5,  5,  6,  6,  7,  7,  8,\n",
       "        8,  9,  9, 10, 10, 11, 11])"
      ]
     },
     "execution_count": 98,
     "metadata": {},
     "output_type": "execute_result"
    }
   ],
   "source": [
    "np.repeat(x6,2)"
   ]
  },
  {
   "cell_type": "code",
   "execution_count": 101,
   "id": "7f8a2702-8957-4097-a1ab-209d675e9ce8",
   "metadata": {},
   "outputs": [
    {
     "data": {
      "text/plain": [
       "array([[ 0,  1,  2,  3,  0,  1,  2,  3],\n",
       "       [ 4,  5,  6,  7,  4,  5,  6,  7],\n",
       "       [ 8,  9, 10, 11,  8,  9, 10, 11],\n",
       "       [ 0,  1,  2,  3,  0,  1,  2,  3],\n",
       "       [ 4,  5,  6,  7,  4,  5,  6,  7],\n",
       "       [ 8,  9, 10, 11,  8,  9, 10, 11]])"
      ]
     },
     "execution_count": 101,
     "metadata": {},
     "output_type": "execute_result"
    }
   ],
   "source": [
    "np.tile(x6, (2,3)) # tiles of 2x2"
   ]
  },
  {
   "cell_type": "code",
   "execution_count": 109,
   "id": "6ac5228d-d7b9-416b-ad14-9cdaa89a7119",
   "metadata": {},
   "outputs": [
    {
     "data": {
      "text/plain": [
       "array([[1., 1., 1., 1.],\n",
       "       [1., 1., 1., 1.],\n",
       "       [1., 3., 3., 1.]])"
      ]
     },
     "execution_count": 109,
     "metadata": {},
     "output_type": "execute_result"
    }
   ],
   "source": [
    "r1=np.ones(x6.shape)\n",
    "r1[2:3,1:3]=3\n",
    "r1"
   ]
  },
  {
   "cell_type": "code",
   "execution_count": 111,
   "id": "eede935e-7452-4490-b7d2-803cc4ca819d",
   "metadata": {},
   "outputs": [
    {
     "data": {
      "text/plain": [
       "array([ 0,  1,  2,  3,  4,  5,  6,  7,  8,  9,  9,  9, 10, 10, 10, 11])"
      ]
     },
     "execution_count": 111,
     "metadata": {},
     "output_type": "execute_result"
    }
   ],
   "source": [
    "np.repeat(x6, r1.astype(int).ravel())"
   ]
  },
  {
   "cell_type": "code",
   "execution_count": 113,
   "id": "98b98049-fabb-4494-9068-d2bf98d70679",
   "metadata": {},
   "outputs": [
    {
     "data": {
      "text/plain": [
       "array([[ 0,  1,  2,  3],\n",
       "       [ 4,  5,  6,  7],\n",
       "       [ 8,  9,  9,  9],\n",
       "       [10, 10, 10, 11]])"
      ]
     },
     "execution_count": 113,
     "metadata": {},
     "output_type": "execute_result"
    }
   ],
   "source": [
    "np.repeat(x6, r1.astype(int).ravel()).reshape(4,4)"
   ]
  },
  {
   "cell_type": "code",
   "execution_count": null,
   "id": "3db527bb-1d57-4d5c-91d2-edc59769d8fb",
   "metadata": {},
   "outputs": [],
   "source": []
  }
 ],
 "metadata": {
  "kernelspec": {
   "display_name": "Python 3 (ipykernel)",
   "language": "python",
   "name": "python3"
  },
  "language_info": {
   "codemirror_mode": {
    "name": "ipython",
    "version": 3
   },
   "file_extension": ".py",
   "mimetype": "text/x-python",
   "name": "python",
   "nbconvert_exporter": "python",
   "pygments_lexer": "ipython3",
   "version": "3.10.0"
  }
 },
 "nbformat": 4,
 "nbformat_minor": 5
}

{
 "cells": [
  {
   "cell_type": "code",
   "execution_count": 1,
   "id": "5078078c-bb8f-401c-9fa2-d5f88f4efba4",
   "metadata": {},
   "outputs": [],
   "source": [
    "import os\n",
    "os.curdir\n",
    "os.chdir('/Users/manojravikumar/Public/60162417/05-tutorials/14-aiml/machine-learning-practice/supervised')\n",
    "\n",
    "import warnings\n",
    "warnings.filterwarnings(\"ignore\")"
   ]
  },
  {
   "cell_type": "code",
   "execution_count": 3,
   "id": "e27c9a0a-e583-47e8-9df1-ee3dbfcad64d",
   "metadata": {},
   "outputs": [],
   "source": [
    "import pandas as pd\n",
    "import numpy as np\n",
    "import seaborn as sns\n",
    "import matplotlib.pyplot as plt\n",
    "%matplotlib inline"
   ]
  },
  {
   "cell_type": "code",
   "execution_count": 13,
   "id": "4ce265e0-21b2-4582-acf4-9ec98ba54c95",
   "metadata": {},
   "outputs": [
    {
     "name": "stdout",
     "output_type": "stream",
     "text": [
      "    Day   Outlook Temperature Humidity    Wind Play\n",
      "0     1     Sunny         Hot     High    Weak   No\n",
      "1     2     Sunny         Hot     High  Strong   No\n",
      "2     3  Overcast         Hot     High    Weak  Yes\n",
      "3     4      Rain        Mild     High    Weak  Yes\n",
      "4     5      Rain        Cool   Normal    Weak  Yes\n",
      "5     6      Rain        Cool   Normal  Strong   No\n",
      "6     7  Overcast        Cool   Normal  Strong  Yes\n",
      "7     8     Sunny        Mild     High    Weak   No\n",
      "8     9     Sunny        Cool   Normal    Weak  Yes\n",
      "9    10      Rain        Mild   Normal    Weak  Yes\n",
      "10   11     Sunny        Mild   Normal  Strong  Yes\n",
      "11   12  Overcast        Mild     High  Strong  Yes\n",
      "12   13  Overcast         Hot   Normal    Weak  Yes\n",
      "13   14      Rain        Mild     High  Strong   No\n"
     ]
    }
   ],
   "source": [
    "# Create empty DataFrame with column names\n",
    "df = pd.DataFrame(columns=[\"Day\", \"Outlook\", \"Temperature\", \"Humidity\", \"Wind\", \"Play\"])\n",
    "\n",
    "# Feed rows one by one\n",
    "df.loc[len(df)] = [1,  \"Sunny\",    \"Hot\",  \"High\",   \"Weak\",   \"No\"]\n",
    "df.loc[len(df)] = [2,  \"Sunny\",    \"Hot\",  \"High\",   \"Strong\", \"No\"]\n",
    "df.loc[len(df)] = [3,  \"Overcast\", \"Hot\",  \"High\",   \"Weak\",   \"Yes\"]\n",
    "df.loc[len(df)] = [4,  \"Rain\",     \"Mild\", \"High\",   \"Weak\",   \"Yes\"]\n",
    "df.loc[len(df)] = [5,  \"Rain\",     \"Cool\", \"Normal\", \"Weak\",   \"Yes\"]\n",
    "df.loc[len(df)] = [6,  \"Rain\",     \"Cool\", \"Normal\", \"Strong\", \"No\"]\n",
    "df.loc[len(df)] = [7,  \"Overcast\", \"Cool\", \"Normal\", \"Strong\", \"Yes\"]\n",
    "df.loc[len(df)] = [8,  \"Sunny\",    \"Mild\", \"High\",   \"Weak\",   \"No\"]\n",
    "df.loc[len(df)] = [9,  \"Sunny\",    \"Cool\", \"Normal\", \"Weak\",   \"Yes\"]\n",
    "df.loc[len(df)] = [10, \"Rain\",     \"Mild\", \"Normal\", \"Weak\",   \"Yes\"]\n",
    "df.loc[len(df)] = [11, \"Sunny\",    \"Mild\", \"Normal\", \"Strong\", \"Yes\"]\n",
    "df.loc[len(df)] = [12, \"Overcast\", \"Mild\", \"High\",   \"Strong\", \"Yes\"]\n",
    "df.loc[len(df)] = [13, \"Overcast\", \"Hot\",  \"Normal\", \"Weak\",   \"Yes\"]\n",
    "df.loc[len(df)] = [14, \"Rain\",     \"Mild\", \"High\",   \"Strong\", \"No\"]\n",
    "\n",
    "print(df)"
   ]
  },
  {
   "cell_type": "code",
   "execution_count": 14,
   "id": "552299f6-3e05-4368-b227-3595d0bb4ab9",
   "metadata": {},
   "outputs": [
    {
     "data": {
      "text/html": [
       "<div>\n",
       "<style scoped>\n",
       "    .dataframe tbody tr th:only-of-type {\n",
       "        vertical-align: middle;\n",
       "    }\n",
       "\n",
       "    .dataframe tbody tr th {\n",
       "        vertical-align: top;\n",
       "    }\n",
       "\n",
       "    .dataframe thead th {\n",
       "        text-align: right;\n",
       "    }\n",
       "</style>\n",
       "<table border=\"1\" class=\"dataframe\">\n",
       "  <thead>\n",
       "    <tr style=\"text-align: right;\">\n",
       "      <th></th>\n",
       "      <th>Day</th>\n",
       "      <th>Outlook</th>\n",
       "      <th>Temperature</th>\n",
       "      <th>Humidity</th>\n",
       "      <th>Wind</th>\n",
       "      <th>Play</th>\n",
       "    </tr>\n",
       "  </thead>\n",
       "  <tbody>\n",
       "    <tr>\n",
       "      <th>5</th>\n",
       "      <td>6</td>\n",
       "      <td>Rain</td>\n",
       "      <td>Cool</td>\n",
       "      <td>Normal</td>\n",
       "      <td>Strong</td>\n",
       "      <td>No</td>\n",
       "    </tr>\n",
       "  </tbody>\n",
       "</table>\n",
       "</div>"
      ],
      "text/plain": [
       "   Day Outlook Temperature Humidity    Wind Play\n",
       "5    6    Rain        Cool   Normal  Strong   No"
      ]
     },
     "execution_count": 14,
     "metadata": {},
     "output_type": "execute_result"
    }
   ],
   "source": [
    "df[(df[\"Temperature\"] == \"Cool\") & (df[\"Play\"] == \"No\")]"
   ]
  },
  {
   "cell_type": "markdown",
   "id": "df1d6c60-aa09-4fd5-91d7-d4e1aaf54cef",
   "metadata": {},
   "source": [
    "## Gaussian Normal Distribution Example"
   ]
  },
  {
   "cell_type": "code",
   "execution_count": null,
   "id": "da70b637-6bfb-46c4-8c5a-6d457d3b8848",
   "metadata": {},
   "outputs": [],
   "source": [
    "df = pd.DataFrame(columns=[\"Age\", \"Sex\", \"Height\", \"Weight\", \"BMI\", \"Fat\"])\n",
    "\n",
    "# Feed rows one by one\n",
    "df.loc[len(df)] = [1,  \"Sunny\",    \"Hot\",  \"High\",   \"Weak\",   \"No\"]\n",
    "df.loc[len(df)] = [2,  \"Sunny\",    \"Hot\",  \"High\",   \"Strong\", \"No\"]\n",
    "df.loc[len(df)] = [3,  \"Overcast\", \"Hot\",  \"High\",   \"Weak\",   \"Yes\"]\n",
    "df.loc[len(df)] = [4,  \"Rain\",     \"Mild\", \"High\",   \"Weak\",   \"Yes\"]\n",
    "df.loc[len(df)] = [5,  \"Rain\",     \"Cool\", \"Normal\", \"Weak\",   \"Yes\"]\n",
    "df.loc[len(df)] = [6,  \"Rain\",     \"Cool\", \"Normal\", \"Strong\", \"No\"]\n",
    "df.loc[len(df)] = [7,  \"Overcast\", \"Cool\", \"Normal\", \"Strong\", \"Yes\"]\n",
    "df.loc[len(df)] = [8,  \"Sunny\",    \"Mild\", \"High\",   \"Weak\",   \"No\"]\n",
    "df.loc[len(df)] = [9,  \"Sunny\",    \"Cool\", \"Normal\", \"Weak\",   \"Yes\"]\n",
    "df.loc[len(df)] = [10, \"Rain\",     \"Mild\", \"Normal\", \"Weak\",   \"Yes\"]\n",
    "df.loc[len(df)] = [11, \"Sunny\",    \"Mild\", \"Normal\", \"Strong\", \"Yes\"]\n",
    "df.loc[len(df)] = [12, \"Overcast\", \"Mild\", \"High\",   \"Strong\", \"Yes\"]\n",
    "df.loc[len(df)] = [13, \"Overcast\", \"Hot\",  \"Normal\", \"Weak\",   \"Yes\"]\n",
    "df.loc[len(df)] = [14, \"Rain\",     \"Mild\", \"High\",   \"Strong\", \"No\"]\n",
    "\n"
   ]
  }
 ],
 "metadata": {
  "kernelspec": {
   "display_name": "Python 3 (ipykernel)",
   "language": "python",
   "name": "python3"
  },
  "language_info": {
   "codemirror_mode": {
    "name": "ipython",
    "version": 3
   },
   "file_extension": ".py",
   "mimetype": "text/x-python",
   "name": "python",
   "nbconvert_exporter": "python",
   "pygments_lexer": "ipython3",
   "version": "3.10.0"
  }
 },
 "nbformat": 4,
 "nbformat_minor": 5
}
